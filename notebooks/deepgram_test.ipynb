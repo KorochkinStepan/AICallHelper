{
 "cells": [
  {
   "cell_type": "code",
   "execution_count": 254,
   "id": "3cfb5d42-524f-41fc-af8b-4747d800aff2",
   "metadata": {},
   "outputs": [],
   "source": [
    "a = {}\n",
    "a[1.0] = 2"
   ]
  },
  {
   "cell_type": "code",
   "execution_count": 258,
   "id": "6aecafca-1f05-4e11-905f-cc07225ae64e",
   "metadata": {},
   "outputs": [],
   "source": [
    "a[1] = 3"
   ]
  },
  {
   "cell_type": "code",
   "execution_count": 260,
   "id": "d64b811e-3981-4506-8269-0fe509985d36",
   "metadata": {},
   "outputs": [],
   "source": [
    "a[True] = 2"
   ]
  },
  {
   "cell_type": "code",
   "execution_count": 261,
   "id": "c6b078a8-4e0b-4646-9edb-e0cbea9c24ca",
   "metadata": {},
   "outputs": [
    {
     "data": {
      "text/plain": [
       "{1.0: 2}"
      ]
     },
     "execution_count": 261,
     "metadata": {},
     "output_type": "execute_result"
    }
   ],
   "source": [
    "a"
   ]
  },
  {
   "cell_type": "code",
   "execution_count": 41,
   "id": "d6d41b6f-0d14-406e-8e6e-f40e0448a686",
   "metadata": {
    "scrolled": true
   },
   "outputs": [
    {
     "name": "stdout",
     "output_type": "stream",
     "text": [
      "Collecting pip-system-certs\n",
      "  Downloading pip_system_certs-4.0-py2.py3-none-any.whl (6.1 kB)\n",
      "Collecting wrapt>=1.10.4 (from pip-system-certs)\n",
      "  Downloading wrapt-1.16.0-cp311-cp311-win_amd64.whl (37 kB)\n",
      "Installing collected packages: wrapt, pip-system-certs\n",
      "Successfully installed pip-system-certs-4.0 wrapt-1.16.0\n"
     ]
    },
    {
     "name": "stderr",
     "output_type": "stream",
     "text": [
      "\n",
      "[notice] A new release of pip is available: 23.1.2 -> 24.0\n",
      "[notice] To update, run: python.exe -m pip install --upgrade pip\n"
     ]
    }
   ],
   "source": [
    "!pip install pip-system-certs\n",
    "! pip install deepgram-sdk "
   ]
  },
  {
   "cell_type": "code",
   "execution_count": 6,
   "id": "d4eb0f19-9b63-4fda-863c-95778492eb2f",
   "metadata": {},
   "outputs": [],
   "source": [
    "import time\n",
    "def time_decorator(func):\n",
    "    def wrapper(*args, **kwargs):\n",
    "        start_time = time.time()\n",
    "        result = func(*args, **kwargs)\n",
    "        end_time = time.time()\n",
    "        print(f\"Time taken by {func.__name__}: {end_time - start_time} seconds\")\n",
    "        return result\n",
    "    return wrapper"
   ]
  },
  {
   "cell_type": "code",
   "execution_count": 226,
   "id": "a4604069-700c-42fc-bb4a-f8a8a452e13d",
   "metadata": {},
   "outputs": [
    {
     "name": "stdout",
     "output_type": "stream",
     "text": [
      "{'access_token': 'eyJjdHkiOiJqd3QiLCJlbmMiOiJBMjU2Q0JDLUhTNTEyIiwiYWxnIjoiUlNBLU9BRVAtMjU2In0.WuG1mhRTJI6gyaZDTefqnL_i_Dct-ktSH8otalIJI0VLB7Vy2sezqR9z4xqk3f55Fxj-9VoBFPQayZ0WH8DcrvXx6Dtm9qfEvm3tPFmrjw6DkJuIJa3P3FvKW5j16hBQxTW_qLrqjX_24cGadWXQrPzUzR-AX_2Pkh1W-cyGugM-eOghBmHYfos_NmjkuhrDF8Zhb1BFQL9p8UTzNCb_2UZ1bQDlTExV_JvoB4xWjGlSylLvUfT7nsVBb9S_7x--NzLeVsRO93BsKza4ED-OVfBjV1tMknPhrEjOoZgWF76v91ou09bFE86LNu6pmMt8tueA0_IO_ZD0KS-D0E4VtA.XUlIjlrLS69mRNtsheJK-Q.QQE97s6gxTo0rDWYWJmxBdHfDMqVAfo3788sNfcEXmBE_Q5KJ2kD8AM-HtOu3wXzBO8LHAN6RTtQM03TuSQGaDCEajMoR2F029TdSRBPzK6ZlJHRwZDH7VVpxJeFToX_1z7lLtUfrUf42E0ds_PqfCTqKQss9NjVZnh5qq2_O6amv7BBDbPJB-MU7Fr-PLueREXyzRWn6Cu_pS_JjJKJteqldDwtaoL7uFccihMOrd4fNSE4bvGFh5ZyZY4shEnKXnhjqCD_FS4-7Ar8iLcQRvfB_2Qx8FAZq_-JO2KlaEkQ_YE-LYOqZ-603s2uaJuO3V8DzeOEYbjdYzIatWWxFXElFtjap1Xzzxn4vB5rU6wujBHIXzw8eNoopv0QkthUx7rtIiaGVWq9w70quuBm6MFlNLwCDVcZq92PiXjRu3kGjaZeCkmfQUuaNAgJvAw93zB5b1hUY4OrrnIM6i0WBaf3h-IFTmJWMzJAiWj4-xZf0B1iZG6Oy0m0AXyHNzdxsXeWpSrA-Yo2tNd_rSz0GxYjgoJEdDs5cR1Ds6yXJEQJalsCmuUgsptGz6YrBqe9f3EFwN4MPrZfd9iTLeHRPr7MbmOKBoPZ9G67AIAjZdhOJcm5YeO4eew22m4q7Yvu2vHD67tqS12XZuElTiKOodt43kb2Qq4HmFMiPiA74TXvKZaB0K5ZYOuvforq7tqPT4xNm1rN9Lm_fQcIig0_aIGnWAXuZh0yDWckzozJp7U.HnqQuCPlICKDCU2QvuqRaYKt5IbU33KYfEBe9-FDrYc', 'expires_at': 1707936820595}\n"
     ]
    },
    {
     "name": "stderr",
     "output_type": "stream",
     "text": [
      "Z:\\AIcallhelper\\venv\\Lib\\site-packages\\urllib3\\connectionpool.py:1103: InsecureRequestWarning: Unverified HTTPS request is being made to host 'ngw.devices.sberbank.ru'. Adding certificate verification is strongly advised. See: https://urllib3.readthedocs.io/en/latest/advanced-usage.html#tls-warnings\n",
      "  warnings.warn(\n"
     ]
    }
   ],
   "source": [
    "import requests\n",
    "import uuid\n",
    "import base64\n",
    "# Create a unique RqUID using uuid\n",
    "rq_uid = str(uuid.uuid4())\n",
    "\n",
    "# Define headers and data payload\n",
    "credentials = 'OWUxMzY2OGQtN2I1Yy00YTE2LTgwNzItMmY1OWIyYmFkYzUxOmVhN2NhYjBmLTRmNjYtNDBkOC1iZWE3LWUxMGYyOGViODY0Yw=='\n",
    "\n",
    "encoded_credentials = base64.b64encode(credentials.encode()).decode()\n",
    "headers = {\n",
    "    'Authorization': f'Basic {credentials}',\n",
    "    'RqUID': rq_uid,\n",
    "    'Content-Type': 'application/x-www-form-urlencoded'\n",
    "}\n",
    "\n",
    "data = {\n",
    "    'scope': 'SALUTE_SPEECH_PERS'\n",
    "}\n",
    "\n",
    "# Combine headers and data in the request\n",
    "response = requests.post('https://ngw.devices.sberbank.ru:9443/api/v2/oauth', headers=headers, data=data, verify=False)\n",
    "token_sber = response.json()['access_token']\n",
    "# Print the response\n",
    "print(response.json())"
   ]
  },
  {
   "cell_type": "code",
   "execution_count": 250,
   "id": "6d6532a9-9339-4428-9316-e932b1e3131c",
   "metadata": {},
   "outputs": [],
   "source": [
    "import os\n",
    "from deepgram import (\n",
    "    DeepgramClient,\n",
    "    PrerecordedOptions,\n",
    "    FileSource,\n",
    ")\n",
    "# Path to the audio file\n",
    "def recognize_deepgram(path: str):\n",
    "    API_KEY = \"d6ac710236605bd2bc5cfcb46b3d1d7a55e5143d\"\n",
    "    @time_decorator\n",
    "    def __recognize_deepgram(path: str):\n",
    "        try:\n",
    "            # STEP 1 Create a Deepgram client using the API key\n",
    "            deepgram = DeepgramClient(API_KEY)\n",
    "            with open(path, \"rb\") as file:\n",
    "                buffer_data = file.read()\n",
    "            payload: FileSource = {\n",
    "                \"buffer\": buffer_data,\n",
    "            }\n",
    "            #STEP 2: Configure Deepgram options for audio analysis\n",
    "            options = PrerecordedOptions(\n",
    "                language=\"ru\",\n",
    "                model=\"nova-2\",\n",
    "                smart_format=True,\n",
    "            )\n",
    "            # STEP 3: Call the transcribe_file method with the text payload and options\n",
    "            response = deepgram.listen.prerecorded.v(\"1\").transcribe_file(payload, options)\n",
    "            # STEP 4: Print the response\n",
    "            #print(response.to_json(indent=4))\n",
    "        except Exception as e:\n",
    "            print(f\"Exception: {e}\")\n",
    "        return response.results\n",
    "    return __recognize_deepgram(path)\n"
   ]
  },
  {
   "cell_type": "code",
   "execution_count": 231,
   "id": "90ac2dd8-d090-461a-bb40-57c7ee93f327",
   "metadata": {},
   "outputs": [],
   "source": [
    "import requests\n",
    "# API endpoint configuration\n",
    "def recognize_whisper(path):\n",
    "    TOKEN = \"997GBY7LZLXR2QTPYLQ5M9MIJK324G61\"\n",
    "    api_url = \"https://transcribe.whisperapi.com\"\n",
    "    headers = {'Authorization': f'Bearer {TOKEN}'}\n",
    "    @time_decorator\n",
    "    def __recognize_whisper(path):\n",
    "        payload = {\n",
    "            'file': {'file': open(path, 'rb')},\n",
    "            'data': {\n",
    "                \"fileType\": \"wav\",  # Default is 'wav'.\n",
    "                \"diarization\": \"false\",  # 'True' may slow down processing.\n",
    "                #\"url\": \"URL_OF_STORED_AUDIO_FILE\",  # Use either URL or file, not both.\n",
    "                \"initialPrompt\": \"\",  # Optional: Teach model a phrase. May negatively impact results.\n",
    "                \"task\": \"transcribe\",  # Use 'translate' to translate speech from language to English. Transcribe is default.\n",
    "                \"callbackURL\": \"\",  # Optional: Callback URL for results to be sent.\n",
    "            }\n",
    "        }\n",
    "        # Make the API request and print the response\n",
    "        response = requests.post(api_url, headers=headers, files=payload['file'], data=payload['data'], verify=False)\n",
    "        #print(response.text)\n",
    "        return response.json()\n",
    "    return __recognize_whisper(path)\n"
   ]
  },
  {
   "cell_type": "code",
   "execution_count": 216,
   "id": "c9cbf431-45c5-47f9-85bc-abc338f146a2",
   "metadata": {},
   "outputs": [],
   "source": [
    "import requests\n",
    "def recognize_sber(path):\n",
    "    @time_decorator\n",
    "    def __recognize_sber(path):\n",
    "            # API endpoint configuration\n",
    "        api_url = \"https://smartspeech.sber.ru/rest/v1/speech:recognize\"\n",
    "        headers = {'Authorization': f'Bearer {token_sber}',\n",
    "                  \"Content-Type\": \"audio/x-pcm;bit=16;rate=16000\"}\n",
    "        payload = {\n",
    "            'data': open(path, 'rb')\n",
    "        }\n",
    "        # Make the API request and print the response\n",
    "        response = requests.post(api_url, headers=headers, data=payload['data'], verify=False)\n",
    "        #print(response.text)\n",
    "        return response.json()\n",
    "    return __recognize_sber(path)"
   ]
  },
  {
   "cell_type": "code",
   "execution_count": 3,
   "id": "283b068b-c29b-4bb7-bd9f-ea3aad286fda",
   "metadata": {},
   "outputs": [],
   "source": [
    "file1 = \"0003d952-f170-4af0-946f-35db983ac54a.wav\"\n",
    "file2 = \"000073e5-e343-4b0f-a3c0-2828de3dbe37.wav\""
   ]
  },
  {
   "cell_type": "code",
   "execution_count": 4,
   "id": "91050cf1-cbda-4180-9500-7a6dc62cc9c2",
   "metadata": {},
   "outputs": [],
   "source": [
    "text1 = \"Легендарный католический святой, ставший основателем нищенствующего ордена францисканцев, на первый взгляд, является классическим шизофреником.\"\n",
    "text2 = \"Он находился в федеральном розыске за убийства мирных жителей и милиционеров.\""
   ]
  },
  {
   "cell_type": "code",
   "execution_count": 223,
   "id": "4020c387-3714-4d88-ae49-ec6d8c3beb5e",
   "metadata": {
    "collapsed": true,
    "jupyter": {
     "outputs_hidden": true
    }
   },
   "outputs": [
    {
     "name": "stderr",
     "output_type": "stream",
     "text": [
      "Z:\\AIcallhelper\\venv\\Lib\\site-packages\\urllib3\\connectionpool.py:1103: InsecureRequestWarning: Unverified HTTPS request is being made to host 'transcribe.whisperapi.com'. Adding certificate verification is strongly advised. See: https://urllib3.readthedocs.io/en/latest/advanced-usage.html#tls-warnings\n",
      "  warnings.warn(\n"
     ]
    },
    {
     "name": "stdout",
     "output_type": "stream",
     "text": [
      "Time taken by __recognize_whisper: 2.5201501846313477 seconds\n"
     ]
    },
    {
     "data": {
      "text/plain": [
       "{'language': 'ru',\n",
       " 'text': ' Легендарный католический святой, ставший основателем нищенствующего ордена францисканцев, на первый взгляд является классическим шизофреником.',\n",
       " 'segments': [{'start': 0.0,\n",
       "   'end': 9.6,\n",
       "   'text': ' Легендарный католический святой, ставший основателем нищенствующего ордена францисканцев, на первый взгляд является классическим шизофреником.',\n",
       "   'whole_word_timestamps': [{'word': ' Легендарный',\n",
       "     'start': 0.0,\n",
       "     'end': 1.58,\n",
       "     'timestamp': 1.58,\n",
       "     'probability': 0.8212890625},\n",
       "    {'word': ' католический',\n",
       "     'start': 1.58,\n",
       "     'end': 2.2,\n",
       "     'timestamp': 2.2,\n",
       "     'probability': 0.9264322916666666},\n",
       "    {'word': ' святой,',\n",
       "     'start': 2.2,\n",
       "     'end': 2.7,\n",
       "     'timestamp': 2.7,\n",
       "     'probability': 0.9768880208333334},\n",
       "    {'word': ' ставший',\n",
       "     'start': 2.84,\n",
       "     'end': 3.16,\n",
       "     'timestamp': 3.16,\n",
       "     'probability': 0.966064453125},\n",
       "    {'word': ' основателем',\n",
       "     'start': 3.16,\n",
       "     'end': 3.88,\n",
       "     'timestamp': 3.88,\n",
       "     'probability': 0.98388671875},\n",
       "    {'word': ' нищенствующего',\n",
       "     'start': 3.88,\n",
       "     'end': 4.94,\n",
       "     'timestamp': 4.94,\n",
       "     'probability': 0.85205078125},\n",
       "    {'word': ' ордена',\n",
       "     'start': 4.94,\n",
       "     'end': 5.38,\n",
       "     'timestamp': 5.38,\n",
       "     'probability': 0.95166015625},\n",
       "    {'word': ' францисканцев,',\n",
       "     'start': 5.38,\n",
       "     'end': 6.3,\n",
       "     'timestamp': 6.3,\n",
       "     'probability': 0.9620535714285714},\n",
       "    {'word': ' на',\n",
       "     'start': 6.82,\n",
       "     'end': 6.84,\n",
       "     'timestamp': 6.84,\n",
       "     'probability': 0.9951171875},\n",
       "    {'word': ' первый',\n",
       "     'start': 6.84,\n",
       "     'end': 7.08,\n",
       "     'timestamp': 7.08,\n",
       "     'probability': 0.95361328125},\n",
       "    {'word': ' взгляд',\n",
       "     'start': 7.08,\n",
       "     'end': 7.54,\n",
       "     'timestamp': 7.54,\n",
       "     'probability': 0.9951171875},\n",
       "    {'word': ' является',\n",
       "     'start': 7.54,\n",
       "     'end': 8.06,\n",
       "     'timestamp': 8.06,\n",
       "     'probability': 0.8623046875},\n",
       "    {'word': ' классическим',\n",
       "     'start': 8.06,\n",
       "     'end': 8.78,\n",
       "     'timestamp': 8.78,\n",
       "     'probability': 0.9951171875},\n",
       "    {'word': ' шизофреником.',\n",
       "     'start': 8.78,\n",
       "     'end': 9.6,\n",
       "     'timestamp': 9.6,\n",
       "     'probability': 0.83349609375}]}]}"
      ]
     },
     "execution_count": 223,
     "metadata": {},
     "output_type": "execute_result"
    }
   ],
   "source": [
    "recognize_whisper(path=file1)"
   ]
  },
  {
   "cell_type": "code",
   "execution_count": 219,
   "id": "5373d05d-bebf-425c-817b-4aa1178867b8",
   "metadata": {},
   "outputs": [
    {
     "name": "stderr",
     "output_type": "stream",
     "text": [
      "Z:\\AIcallhelper\\venv\\Lib\\site-packages\\urllib3\\connectionpool.py:1103: InsecureRequestWarning: Unverified HTTPS request is being made to host 'transcribe.whisperapi.com'. Adding certificate verification is strongly advised. See: https://urllib3.readthedocs.io/en/latest/advanced-usage.html#tls-warnings\n",
      "  warnings.warn(\n"
     ]
    },
    {
     "name": "stdout",
     "output_type": "stream",
     "text": [
      "Time taken by __recognize_whisper: 1.6682548522949219 seconds\n"
     ]
    }
   ],
   "source": [
    "recognize_whisper(path=file2)"
   ]
  },
  {
   "cell_type": "code",
   "execution_count": 251,
   "id": "6ec36c0a-93e6-4102-99ba-0d6a739a10e5",
   "metadata": {},
   "outputs": [
    {
     "name": "stdout",
     "output_type": "stream",
     "text": [
      "Time taken by __recognize_deepgram: 2.9045279026031494 seconds\n"
     ]
    },
    {
     "data": {
      "text/plain": [
       "Results(channels=[Channel(search=None, alternatives=[Alternative(transcript='Он находился в федеральном розыске за убийство мирных жителей и милиционеров.', confidence=0.9970703, words=[Word(word='он', start=0.64, end=0.88, confidence=0.9716797, punctuated_word='Он', speaker=0, speaker_confidence=0.0, sentiment=<Sentiment.UNKNOWN: ''>, sentiment_score=0.0), Word(word='находился', start=0.88, end=1.38, confidence=0.9970703, punctuated_word='находился', speaker=0, speaker_confidence=0.0, sentiment=<Sentiment.UNKNOWN: ''>, sentiment_score=0.0), Word(word='в', start=1.52, end=1.68, confidence=0.6694336, punctuated_word='в', speaker=0, speaker_confidence=0.0, sentiment=<Sentiment.UNKNOWN: ''>, sentiment_score=0.0), Word(word='федеральном', start=1.68, end=2.1599998, confidence=0.9970703, punctuated_word='федеральном', speaker=0, speaker_confidence=0.0, sentiment=<Sentiment.UNKNOWN: ''>, sentiment_score=0.0), Word(word='розыске', start=2.1599998, end=2.6399999, confidence=0.99902344, punctuated_word='розыске', speaker=0, speaker_confidence=0.0, sentiment=<Sentiment.UNKNOWN: ''>, sentiment_score=0.0), Word(word='за', start=2.6399999, end=2.8, confidence=0.9790039, punctuated_word='за', speaker=0, speaker_confidence=0.0, sentiment=<Sentiment.UNKNOWN: ''>, sentiment_score=0.0), Word(word='убийство', start=2.8, end=3.28, confidence=0.8222656, punctuated_word='убийство', speaker=0, speaker_confidence=0.0, sentiment=<Sentiment.UNKNOWN: ''>, sentiment_score=0.0), Word(word='мирных', start=3.28, end=3.6799998, confidence=0.9980469, punctuated_word='мирных', speaker=0, speaker_confidence=0.0, sentiment=<Sentiment.UNKNOWN: ''>, sentiment_score=0.0), Word(word='жителей', start=3.6799998, end=4.08, confidence=0.99902344, punctuated_word='жителей', speaker=0, speaker_confidence=0.0, sentiment=<Sentiment.UNKNOWN: ''>, sentiment_score=0.0), Word(word='и', start=4.08, end=4.24, confidence=0.99902344, punctuated_word='и', speaker=0, speaker_confidence=0.0, sentiment=<Sentiment.UNKNOWN: ''>, sentiment_score=0.0), Word(word='милиционеров', start=4.24, end=4.74, confidence=0.98999023, punctuated_word='милиционеров.', speaker=0, speaker_confidence=0.0, sentiment=<Sentiment.UNKNOWN: ''>, sentiment_score=0.0)], summaries=None, paragraphs=Paragraphs(transcript='\\nОн находился в федеральном розыске за убийство мирных жителей и милиционеров.', paragraphs=[Paragraph(sentences=[Sentence(text='Он находился в федеральном розыске за убийство мирных жителей и милиционеров.', start=0.64, end=4.74, sentiment=<Sentiment.UNKNOWN: ''>, sentiment_score=None)], start=0.64, end=4.74, num_words=11.0, speaker=0, sentiment=<Sentiment.UNKNOWN: ''>, sentiment_score=0.0)]), entities=None, translations=None)], detected_language='', language_confidence=0.0)], utterances=None, summary=None, sentiments=None, topics=None, intents=None)"
      ]
     },
     "execution_count": 251,
     "metadata": {},
     "output_type": "execute_result"
    }
   ],
   "source": [
    "recognize_deepgram(path=file2)"
   ]
  },
  {
   "cell_type": "code",
   "execution_count": 233,
   "id": "ace16c83-ec59-4c1e-91c2-bed31382c36a",
   "metadata": {},
   "outputs": [
    {
     "name": "stdout",
     "output_type": "stream",
     "text": [
      "Time taken by __recognize_deepgram: 2.6139838695526123 seconds\n"
     ]
    }
   ],
   "source": [
    "recognize_deepgram(path=file1)"
   ]
  },
  {
   "cell_type": "code",
   "execution_count": 234,
   "id": "48e0515d-aafd-4604-8bdb-83ae5f89bbc7",
   "metadata": {},
   "outputs": [
    {
     "data": {
      "text/plain": [
       "'{\\n    \"metadata\": {\\n        \"transaction_key\": \"deprecated\",\\n        \"request_id\": \"890c55b6-590a-4dad-badc-fd8c4bf398a4\",\\n        \"sha256\": \"da2363ab0d24990d93150f652e3688f870a87c4b6c5f3d6a4cffa1e7d072dd4a\",\\n        \"created\": \"2024-02-14T18:30:09.397Z\",\\n        \"duration\": 10.08,\\n        \"channels\": 1,\\n        \"models\": [\\n            \"30089e05-99d1-4376-b32e-c263170674af\"\\n        ],\\n        \"model_info\": {\\n            \"30089e05-99d1-4376-b32e-c263170674af\": {\\n                \"name\": \"2-general-nova\",\\n                \"version\": \"2024-01-09.29447\",\\n                \"arch\": \"nova-2\"\\n            }\\n        },\\n        \"extra\": null\\n    },\\n    \"results\": {\\n        \"channels\": [\\n            {\\n                \"alternatives\": [\\n                    {\\n                        \"transcript\": \"My pyro with Grad Yevlietsek Klaasyshkhem Trzafrenicum.\",\\n                        \"confidence\": 0.59747314,\\n                        \"words\": [\\n                            {\\n                                \"word\": \"my\",\\n                                \"start\": 6.715,\\n                                \"end\": 6.795,\\n                                \"confidence\": 0.77441406,\\n                                \"punctuated_word\": \"My\",\\n                                \"speaker\": 0,\\n                                \"speaker_confidence\": 0.0,\\n                                \"sentiment\": \"\",\\n                                \"sentiment_score\": 0.0\\n                            },\\n                            {\\n                                \"word\": \"pyro\",\\n                                \"start\": 6.795,\\n                                \"end\": 7.0350003,\\n                                \"confidence\": 0.59747314,\\n                                \"punctuated_word\": \"pyro\",\\n                                \"speaker\": 0,\\n                                \"speaker_confidence\": 0.0,\\n                                \"sentiment\": \"\",\\n                                \"sentiment_score\": 0.0\\n                            },\\n                            {\\n                                \"word\": \"with\",\\n                                \"start\": 7.0350003,\\n                                \"end\": 7.275,\\n                                \"confidence\": 0.4597168,\\n                                \"punctuated_word\": \"with\",\\n                                \"speaker\": 0,\\n                                \"speaker_confidence\": 0.0,\\n                                \"sentiment\": \"\",\\n                                \"sentiment_score\": 0.0\\n                            },\\n                            {\\n                                \"word\": \"grad\",\\n                                \"start\": 7.275,\\n                                \"end\": 7.5950003,\\n                                \"confidence\": 0.7397461,\\n                                \"punctuated_word\": \"Grad\",\\n                                \"speaker\": 0,\\n                                \"speaker_confidence\": 0.0,\\n                                \"sentiment\": \"\",\\n                                \"sentiment_score\": 0.0\\n                            },\\n                            {\\n                                \"word\": \"yevlietsek\",\\n                                \"start\": 7.5950003,\\n                                \"end\": 8.095,\\n                                \"confidence\": 0.31366983,\\n                                \"punctuated_word\": \"Yevlietsek\",\\n                                \"speaker\": 0,\\n                                \"speaker_confidence\": 0.0,\\n                                \"sentiment\": \"\",\\n                                \"sentiment_score\": 0.0\\n                            },\\n                            {\\n                                \"word\": \"klaasyshkhem\",\\n                                \"start\": 8.235001,\\n                                \"end\": 8.735001,\\n                                \"confidence\": 0.40758404,\\n                                \"punctuated_word\": \"Klaasyshkhem\",\\n                                \"speaker\": 0,\\n                                \"speaker_confidence\": 0.0,\\n                                \"sentiment\": \"\",\\n                                \"sentiment_score\": 0.0\\n                            },\\n                            {\\n                                \"word\": \"trzafrenicum\",\\n                                \"start\": 8.795,\\n                                \"end\": 9.295,\\n                                \"confidence\": 0.6340739,\\n                                \"punctuated_word\": \"Trzafrenicum.\",\\n                                \"speaker\": 0,\\n                                \"speaker_confidence\": 0.0,\\n                                \"sentiment\": \"\",\\n                                \"sentiment_score\": 0.0\\n                            }\\n                        ],\\n                        \"paragraphs\": {\\n                            \"transcript\": \"\\\\nMy pyro with Grad Yevlietsek Klaasyshkhem Trzafrenicum.\",\\n                            \"paragraphs\": [\\n                                {\\n                                    \"sentences\": [\\n                                        {\\n                                            \"text\": \"My pyro with Grad Yevlietsek Klaasyshkhem Trzafrenicum.\",\\n                                            \"start\": 6.715,\\n                                            \"end\": 9.295,\\n                                            \"sentiment\": \"\",\\n                                            \"sentiment_score\": null\\n                                        }\\n                                    ],\\n                                    \"start\": 6.715,\\n                                    \"end\": 9.295,\\n                                    \"num_words\": 7.0,\\n                                    \"speaker\": 0,\\n                                    \"sentiment\": \"\",\\n                                    \"sentiment_score\": 0.0\\n                                }\\n                            ]\\n                        }\\n                    }\\n                ],\\n                \"detected_language\": \"\",\\n                \"language_confidence\": 0.0\\n            }\\n        ]\\n    }\\n}'"
      ]
     },
     "execution_count": 234,
     "metadata": {},
     "output_type": "execute_result"
    }
   ],
   "source": [
    "t"
   ]
  },
  {
   "cell_type": "code",
   "execution_count": 217,
   "id": "5b68abfa-2d0f-4c03-8c8d-6525c598135a",
   "metadata": {},
   "outputs": [
    {
     "name": "stderr",
     "output_type": "stream",
     "text": [
      "Z:\\AIcallhelper\\venv\\Lib\\site-packages\\urllib3\\connectionpool.py:1103: InsecureRequestWarning: Unverified HTTPS request is being made to host 'smartspeech.sber.ru'. Adding certificate verification is strongly advised. See: https://urllib3.readthedocs.io/en/latest/advanced-usage.html#tls-warnings\n",
      "  warnings.warn(\n"
     ]
    },
    {
     "name": "stdout",
     "output_type": "stream",
     "text": [
      "Time taken by __recognize_sber: 0.8354346752166748 seconds\n"
     ]
    },
    {
     "data": {
      "text/plain": [
       "{'result': ['Он находился в федеральном розыске за убийство Мирных жителей и милиционеров.',\n",
       "  ''],\n",
       " 'emotions': [{'negative': 0.0014683844,\n",
       "   'neutral': 0.99585974,\n",
       "   'positive': 0.0026718953},\n",
       "  {'negative': 0, 'neutral': 1, 'positive': 0}],\n",
       " 'status': 200}"
      ]
     },
     "execution_count": 217,
     "metadata": {},
     "output_type": "execute_result"
    }
   ],
   "source": [
    "recognize_sber(file2)"
   ]
  },
  {
   "cell_type": "code",
   "execution_count": 201,
   "id": "4333ab92-d9cf-4ff2-861f-2c653eafe903",
   "metadata": {},
   "outputs": [
    {
     "name": "stderr",
     "output_type": "stream",
     "text": [
      "Z:\\AIcallhelper\\venv\\Lib\\site-packages\\urllib3\\connectionpool.py:1103: InsecureRequestWarning: Unverified HTTPS request is being made to host 'smartspeech.sber.ru'. Adding certificate verification is strongly advised. See: https://urllib3.readthedocs.io/en/latest/advanced-usage.html#tls-warnings\n",
      "  warnings.warn(\n"
     ]
    },
    {
     "name": "stdout",
     "output_type": "stream",
     "text": [
      "Time taken by recognize_sber: 0.9871032238006592 seconds\n"
     ]
    },
    {
     "data": {
      "text/plain": [
       "'{\"result\":[\"Легендарный католический святой, ставший основателем нищенствующего ордена францисканцев, на 1 взгляд является классическим шизофреником.\"],\"emotions\":[{\"negative\":0.00046739256,\"neutral\":0.99876,\"positive\":0.00077262585}],\"status\":200}'"
      ]
     },
     "execution_count": 201,
     "metadata": {},
     "output_type": "execute_result"
    }
   ],
   "source": [
    "recognize_sber(file1)"
   ]
  },
  {
   "cell_type": "code",
   "execution_count": 202,
   "id": "bf50123b-a2e3-4638-a58c-3c666b0fa3c7",
   "metadata": {},
   "outputs": [
    {
     "name": "stderr",
     "output_type": "stream",
     "text": [
      "Z:\\AIcallhelper\\venv\\Lib\\site-packages\\urllib3\\connectionpool.py:1103: InsecureRequestWarning: Unverified HTTPS request is being made to host 'smartspeech.sber.ru'. Adding certificate verification is strongly advised. See: https://urllib3.readthedocs.io/en/latest/advanced-usage.html#tls-warnings\n",
      "  warnings.warn(\n"
     ]
    },
    {
     "name": "stdout",
     "output_type": "stream",
     "text": [
      "Time taken by recognize_sber: 0.9850711822509766 seconds\n"
     ]
    },
    {
     "data": {
      "text/plain": [
       "'{\"result\":[\"Он находился в федеральном розыске за убийство Мирных жителей и милиционеров.\",\"\"],\"emotions\":[{\"negative\":0.0014683844,\"neutral\":0.99585974,\"positive\":0.0026718953},{\"negative\":0,\"neutral\":1,\"positive\":0}],\"status\":200}'"
      ]
     },
     "execution_count": 202,
     "metadata": {},
     "output_type": "execute_result"
    }
   ],
   "source": [
    "recognize_sber(file2)"
   ]
  },
  {
   "cell_type": "code",
   "execution_count": null,
   "id": "24814e0b-2966-49c6-8321-12333e2a39de",
   "metadata": {},
   "outputs": [],
   "source": []
  }
 ],
 "metadata": {
  "kernelspec": {
   "display_name": "Python 3 (ipykernel)",
   "language": "python",
   "name": "python3"
  },
  "language_info": {
   "codemirror_mode": {
    "name": "ipython",
    "version": 3
   },
   "file_extension": ".py",
   "mimetype": "text/x-python",
   "name": "python",
   "nbconvert_exporter": "python",
   "pygments_lexer": "ipython3",
   "version": "3.11.8"
  }
 },
 "nbformat": 4,
 "nbformat_minor": 5
}
